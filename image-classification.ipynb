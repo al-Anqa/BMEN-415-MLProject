{
 "cells": [
  {
   "cell_type": "code",
   "execution_count": 17,
   "metadata": {},
   "outputs": [],
   "source": [
    "import os\n",
    "import numpy as np\n",
    "import cv2\n",
    "from sklearn.model_selection import train_test_split"
   ]
  },
  {
   "cell_type": "code",
   "execution_count": 18,
   "metadata": {},
   "outputs": [],
   "source": [
    "def preprocess_images(folder, label, image_size=(224, 224)):\n",
    "    data = []\n",
    "    labels = []\n",
    "\n",
    "    for img_name in os.listdir(folder):\n",
    "        img_path = os.path.join(folder, img_name)\n",
    "        img = cv2.imread(img_path)\n",
    "        img = cv2.cvtColor(img, cv2.COLOR_BGR2GRAY)\n",
    "        img = cv2.resize(img, image_size)\n",
    "        img = img / 255.0  # Normalize pixel values to the range [0, 1]\n",
    "\n",
    "        data.append(img)\n",
    "        labels.append(label)\n",
    "\n",
    "    return np.array(data), np.array(labels)"
   ]
  },
  {
   "cell_type": "code",
   "execution_count": 19,
   "metadata": {},
   "outputs": [
    {
     "name": "stdout",
     "output_type": "stream",
     "text": [
      "Train: X=(194, 224, 224, 1), y=(194,)\n",
      "Test: X=(22, 224, 224, 1), y=(22,)\n",
      "(224, 224, 1)\n"
     ]
    }
   ],
   "source": [
    "dataset_pos = 'datasets/brain_mri_scan_images/positive'\n",
    "dataset_neg = 'datasets/brain_mri_scan_images/negative'\n",
    "\n",
    "positive_data, positive_labels = preprocess_images(dataset_pos, 1)\n",
    "negative_data, negative_labels = preprocess_images(dataset_neg, 0)\n",
    "\n",
    "x = np.concatenate((positive_data, negative_data))\n",
    "y = np.concatenate((positive_labels, negative_labels))\n",
    "\n",
    "x_train, x_test, y_train, y_test = train_test_split(x, y, test_size=0.1)\n",
    "\n",
    "x_train = np.expand_dims(x_train, -1)\n",
    "x_test = np.expand_dims(x_test, -1)\n",
    "\n",
    "# print(x_train, x_test)\n",
    "# print(y_train, y_test)\n",
    "\n",
    "print(f'Train: X={x_train.shape}, y={y_train.shape}')\n",
    "print(f'Test: X={x_test.shape}, y={y_test.shape}')\n",
    "\n",
    "input_shape = x_train.shape[1:4]\n",
    "print(input_shape)\n"
   ]
  },
  {
   "cell_type": "code",
   "execution_count": 20,
   "metadata": {},
   "outputs": [
    {
     "name": "stdout",
     "output_type": "stream",
     "text": [
      "Model: \"sequential_4\"\n",
      "_________________________________________________________________\n",
      " Layer (type)                Output Shape              Param #   \n",
      "=================================================================\n",
      " conv2d_8 (Conv2D)           (None, 223, 223, 32)      160       \n",
      "                                                                 \n",
      " batch_normalization_1 (Batc  (None, 223, 223, 32)     128       \n",
      " hNormalization)                                                 \n",
      "                                                                 \n",
      " max_pooling2d_8 (MaxPooling  (None, 111, 111, 32)     0         \n",
      " 2D)                                                             \n",
      "                                                                 \n",
      " conv2d_9 (Conv2D)           (None, 110, 110, 64)      8256      \n",
      "                                                                 \n",
      " batch_normalization_2 (Batc  (None, 110, 110, 64)     256       \n",
      " hNormalization)                                                 \n",
      "                                                                 \n",
      " max_pooling2d_9 (MaxPooling  (None, 55, 55, 64)       0         \n",
      " 2D)                                                             \n",
      "                                                                 \n",
      " flatten_4 (Flatten)         (None, 193600)            0         \n",
      "                                                                 \n",
      " dropout_4 (Dropout)         (None, 193600)            0         \n",
      "                                                                 \n",
      " dense_4 (Dense)             (None, 1)                 193601    \n",
      "                                                                 \n",
      "=================================================================\n",
      "Total params: 202,401\n",
      "Trainable params: 202,209\n",
      "Non-trainable params: 192\n",
      "_________________________________________________________________\n"
     ]
    }
   ],
   "source": [
    "from tensorflow import keras\n",
    "from keras import layers\n",
    "\n",
    "model = keras.Sequential(\n",
    "    [\n",
    "        keras.Input(shape=input_shape),\n",
    "        layers.Conv2D(32, kernel_size=(2, 2), activation=\"relu\"),\n",
    "        layers.BatchNormalization(),\n",
    "        layers.MaxPooling2D(pool_size=(2, 2)),\n",
    "        layers.Conv2D(64, kernel_size=(2, 2), activation=\"relu\"),\n",
    "        layers.BatchNormalization(),\n",
    "        layers.MaxPooling2D(pool_size=(2, 2)),\n",
    "        layers.Flatten(),\n",
    "        layers.Dropout(0.5),\n",
    "        layers.Dense(1, activation=\"softmax\"),\n",
    "    ]\n",
    ")\n",
    "\n",
    "model.summary()"
   ]
  },
  {
   "cell_type": "code",
   "execution_count": 21,
   "metadata": {},
   "outputs": [
    {
     "name": "stdout",
     "output_type": "stream",
     "text": [
      "Epoch 1/15\n",
      "22/22 [==============================] - 12s 72ms/step - loss: 5.4089 - accuracy: 0.5460 - val_loss: 0.6227 - val_accuracy: 0.6000\n",
      "Epoch 2/15\n",
      "22/22 [==============================] - 1s 61ms/step - loss: 4.5433 - accuracy: 0.5460 - val_loss: 0.7752 - val_accuracy: 0.6000\n",
      "Epoch 3/15\n",
      "22/22 [==============================] - 1s 63ms/step - loss: 3.0867 - accuracy: 0.5460 - val_loss: 0.5028 - val_accuracy: 0.6000\n",
      "Epoch 4/15\n",
      "22/22 [==============================] - 1s 65ms/step - loss: 0.2478 - accuracy: 0.5460 - val_loss: 0.4849 - val_accuracy: 0.6000\n",
      "Epoch 5/15\n",
      "14/22 [==================>...........] - ETA: 1:08 - loss: 0.2183 - accuracy: 0.4821"
     ]
    },
    {
     "ename": "",
     "evalue": "",
     "output_type": "error",
     "traceback": [
      "\u001b[1;31mThe Kernel crashed while executing code in the current cell or a previous cell. \n",
      "\u001b[1;31mPlease review the code in the cell(s) to identify a possible cause of the failure. \n",
      "\u001b[1;31mClick <a href='https://aka.ms/vscodeJupyterKernelCrash'>here</a> for more info. \n",
      "\u001b[1;31mView Jupyter <a href='command:jupyter.viewOutput'>log</a> for further details."
     ]
    }
   ],
   "source": [
    "batch_size = 8\n",
    "epochs = 15\n",
    "\n",
    "model.compile(loss=\"binary_crossentropy\", optimizer=\"adam\", metrics=[\"accuracy\"])\n",
    "\n",
    "model.fit(x_train, y_train, batch_size=batch_size, epochs=epochs, validation_split=0.1)"
   ]
  }
 ],
 "metadata": {
  "kernelspec": {
   "display_name": "BMEN415",
   "language": "python",
   "name": "python3"
  },
  "language_info": {
   "codemirror_mode": {
    "name": "ipython",
    "version": 3
   },
   "file_extension": ".py",
   "mimetype": "text/x-python",
   "name": "python",
   "nbconvert_exporter": "python",
   "pygments_lexer": "ipython3",
   "version": "3.10.14"
  }
 },
 "nbformat": 4,
 "nbformat_minor": 2
}
